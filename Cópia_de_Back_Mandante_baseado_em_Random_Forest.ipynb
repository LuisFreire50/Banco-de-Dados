{
  "nbformat": 4,
  "nbformat_minor": 0,
  "metadata": {
    "colab": {
      "provenance": [],
      "authorship_tag": "ABX9TyP0pipV06kv0vmeRbRNnoZD",
      "include_colab_link": true
    },
    "kernelspec": {
      "name": "python3",
      "display_name": "Python 3"
    },
    "language_info": {
      "name": "python"
    }
  },
  "cells": [
    {
      "cell_type": "markdown",
      "metadata": {
        "id": "view-in-github",
        "colab_type": "text"
      },
      "source": [
        "<a href=\"https://colab.research.google.com/github/LuisFreire50/Banco-de-Dados/blob/main/C%C3%B3pia_de_Back_Mandante_baseado_em_Random_Forest.ipynb\" target=\"_parent\"><img src=\"https://colab.research.google.com/assets/colab-badge.svg\" alt=\"Open In Colab\"/></a>"
      ]
    },
    {
      "cell_type": "code",
      "source": [
        "pip install pandas scikit-learn numpy"
      ],
      "metadata": {
        "colab": {
          "base_uri": "https://localhost:8080/"
        },
        "id": "CnmtlCDBI8qg",
        "outputId": "73403413-6aaa-43c1-8376-0c201a130a3e"
      },
      "execution_count": null,
      "outputs": [
        {
          "output_type": "stream",
          "name": "stdout",
          "text": [
            "Requirement already satisfied: pandas in /usr/local/lib/python3.10/dist-packages (2.2.2)\n",
            "Requirement already satisfied: scikit-learn in /usr/local/lib/python3.10/dist-packages (1.6.0)\n",
            "Requirement already satisfied: numpy in /usr/local/lib/python3.10/dist-packages (1.26.4)\n",
            "Requirement already satisfied: python-dateutil>=2.8.2 in /usr/local/lib/python3.10/dist-packages (from pandas) (2.8.2)\n",
            "Requirement already satisfied: pytz>=2020.1 in /usr/local/lib/python3.10/dist-packages (from pandas) (2024.2)\n",
            "Requirement already satisfied: tzdata>=2022.7 in /usr/local/lib/python3.10/dist-packages (from pandas) (2024.2)\n",
            "Requirement already satisfied: scipy>=1.6.0 in /usr/local/lib/python3.10/dist-packages (from scikit-learn) (1.13.1)\n",
            "Requirement already satisfied: joblib>=1.2.0 in /usr/local/lib/python3.10/dist-packages (from scikit-learn) (1.4.2)\n",
            "Requirement already satisfied: threadpoolctl>=3.1.0 in /usr/local/lib/python3.10/dist-packages (from scikit-learn) (3.5.0)\n",
            "Requirement already satisfied: six>=1.5 in /usr/local/lib/python3.10/dist-packages (from python-dateutil>=2.8.2->pandas) (1.17.0)\n"
          ]
        }
      ]
    },
    {
      "cell_type": "code",
      "source": [
        "import pandas as pd\n",
        "from sklearn.model_selection import train_test_split\n",
        "from sklearn.ensemble import RandomForestClassifier\n",
        "from sklearn.metrics import accuracy_score, classification_report\n",
        "from sklearn.preprocessing import LabelEncoder\n",
        "\n",
        "# Carregar o dataset\n",
        "df = pd.read_csv('https://www.football-data.co.uk/new/BRA.csv')\n",
        "\n",
        "# Print the actual column names in the DataFrame\n",
        "print(df.columns)\n",
        "\n",
        "# Filtrar colunas relevantes (você pode ajustar conforme necessário)\n",
        "# Ensure the column names match the actual column names in the DataFrame\n",
        "# You may need to adjust the casing or remove extra whitespace\n",
        "cols_to_use = ['Home', 'Away', 'PSCH', 'PSCD', 'PSCA', 'HG', 'AG']\n",
        "df = df[cols_to_use]\n",
        "\n",
        "# Codificar a variável alvo ('FTR' não está disponível, vamos inferir a partir dos gols)\n",
        "df['resultado'] = df['HG'] > df['AG']  # True se home team venceu, False caso contrário\n",
        "y = df['resultado'].astype(int)  # Convertendo para 0 ou 1\n",
        "\n",
        "# Preparação das features\n",
        "X = df.drop('resultado', axis=1)\n",
        "\n",
        "# Codificar times como números\n",
        "le = LabelEncoder()\n",
        "X['Home'] = le.fit_transform(X['Home'])\n",
        "X['Away'] = le.fit_transform(X['Away'])\n",
        "\n",
        "# Dividir os dados\n",
        "X_train, X_test, y_train, y_test = train_test_split(X, y, test_size=0.2, random_state=42)"
      ],
      "metadata": {
        "colab": {
          "base_uri": "https://localhost:8080/"
        },
        "id": "SFF8bvO9JAMH",
        "outputId": "1b8f15c5-7fbf-419a-d010-694f89f45881"
      },
      "execution_count": null,
      "outputs": [
        {
          "output_type": "stream",
          "name": "stdout",
          "text": [
            "Index(['Country', 'League', 'Season', 'Date', 'Time', 'Home', 'Away', 'HG',\n",
            "       'AG', 'Res', 'PSCH', 'PSCD', 'PSCA', 'MaxCH', 'MaxCD', 'MaxCA', 'AvgCH',\n",
            "       'AvgCD', 'AvgCA', 'BFECH', 'BFECD', 'BFECA'],\n",
            "      dtype='object')\n"
          ]
        }
      ]
    },
    {
      "cell_type": "code",
      "source": [
        "# Inicializar e treinar o modelo Random Forest\n",
        "rf_model = RandomForestClassifier(n_estimators=100, random_state=42)\n",
        "rf_model.fit(X_train, y_train)\n",
        "\n",
        "# Fazer previsões\n",
        "y_pred = rf_model.predict(X_test)\n",
        "\n",
        "# Avaliar o modelo\n",
        "print(f'Acurácia: {accuracy_score(y_test, y_pred)}')\n",
        "print('\\nRelatório de Classificação:')\n",
        "print(classification_report(y_test, y_pred))"
      ],
      "metadata": {
        "colab": {
          "base_uri": "https://localhost:8080/"
        },
        "id": "f0xU7CaZLzW3",
        "outputId": "832aae59-5a27-45bb-ab1a-18c09052c5ff"
      },
      "execution_count": null,
      "outputs": [
        {
          "output_type": "stream",
          "name": "stdout",
          "text": [
            "Acurácia: 0.9989878542510121\n",
            "\n",
            "Relatório de Classificação:\n",
            "              precision    recall  f1-score   support\n",
            "\n",
            "           0       1.00      1.00      1.00       497\n",
            "           1       1.00      1.00      1.00       491\n",
            "\n",
            "    accuracy                           1.00       988\n",
            "   macro avg       1.00      1.00      1.00       988\n",
            "weighted avg       1.00      1.00      1.00       988\n",
            "\n"
          ]
        }
      ]
    },
    {
      "cell_type": "code",
      "source": [
        "# Importância das features\n",
        "feature_importance = pd.DataFrame({'feature': X.columns, 'importance': rf_model.feature_importances_})\n",
        "print(feature_importance.sort_values('importance', ascending=False))"
      ],
      "metadata": {
        "colab": {
          "base_uri": "https://localhost:8080/"
        },
        "id": "1pZklU62MLdL",
        "outputId": "d8c86b3e-7cb3-4177-ca10-5fcd71c5610a"
      },
      "execution_count": null,
      "outputs": [
        {
          "output_type": "stream",
          "name": "stdout",
          "text": [
            "  feature  importance\n",
            "5      HG    0.522981\n",
            "6      AG    0.344342\n",
            "4    PSCA    0.039289\n",
            "2    PSCH    0.038913\n",
            "3    PSCD    0.024514\n",
            "0    Home    0.015082\n",
            "1    Away    0.014879\n"
          ]
        }
      ]
    },
    {
      "cell_type": "code",
      "source": [
        "# Suponha que você tenha uma lista de jogos futuros\n",
        "jogos_futuros = [\n",
        "    {'Home': 'Flamengo RJ', 'Away': 'Fluminense', 'PSCH': 1.5, 'PSCD': 3.5, 'PSCA': 5.0, 'HG': 0, 'AG': 0},\n",
        "    {'Home': 'Corinthians', 'Away': 'Sao Paulo', 'PSCH': 2.0, 'PSCD': 3.0, 'PSCA': 3.5, 'HG': 0, 'AG': 0},\n",
        "    # Adicione mais jogos conforme necessário\n",
        "]\n",
        "\n",
        "# Transformar a lista em DataFrame\n",
        "df_jogos_futuros = pd.DataFrame(jogos_futuros)\n",
        "\n",
        "# Instead of directly setting le.classes_, fit the LabelEncoder\n",
        "# with the unique values from both the training data and future data\n",
        "all_teams = list(X['Home'].unique()) + list(X['Away'].unique()) + list(df_jogos_futuros['Home'].unique()) + list(df_jogos_futuros['Away'].unique())\n",
        "le = LabelEncoder()\n",
        "le.fit(all_teams)\n",
        "\n",
        "df_jogos_futuros['Home'] = le.transform(df_jogos_futuros['Home'])\n",
        "df_jogos_futuros['Away'] = le.transform(df_jogos_futuros['Away'])\n",
        "\n",
        "# Selecionar as mesmas colunas usadas para treinar o modelo\n",
        "X_futuro = df_jogos_futuros[['Home', 'Away', 'PSCH', 'PSCD', 'PSCA', 'HG', 'AG']]"
      ],
      "metadata": {
        "id": "fw4T9CsZObgu"
      },
      "execution_count": null,
      "outputs": []
    },
    {
      "cell_type": "code",
      "source": [
        "# Supondo que você já tenha treinado e guardado seu modelo como 'rf_model'\n",
        "previsoes = rf_model.predict(X_futuro)\n",
        "probabilidades = rf_model.predict_proba(X_futuro)\n",
        "\n",
        "# Adicionar as previsões e probabilidades ao DataFrame original\n",
        "df_jogos_futuros['previsao_vitoria_mandante'] = previsoes\n",
        "df_jogos_futuros['prob_vitoria_mandante'] = probabilidades[:, 1]  # Probabilidade de vitória do mandante\n",
        "\n",
        "# Mostrar os resultados\n",
        "print(df_jogos_futuros[['Home', 'Away', 'previsao_vitoria_mandante', 'prob_vitoria_mandante']])\n",
        "\n",
        "# Ordenar por probabilidade de vitória do mandante para facilidade de visualização\n",
        "print(df_jogos_futuros.sort_values('prob_vitoria_mandante', ascending=False))"
      ],
      "metadata": {
        "colab": {
          "base_uri": "https://localhost:8080/"
        },
        "id": "TvDWAZOgQYBp",
        "outputId": "2406a068-7243-43f1-a4cd-56f05701154f"
      },
      "execution_count": null,
      "outputs": [
        {
          "output_type": "stream",
          "name": "stdout",
          "text": [
            "   Home  Away  previsao_vitoria_mandante  prob_vitoria_mandante\n",
            "0    37    38                          0                   0.09\n",
            "1    36    39                          0                   0.08\n",
            "   Home  Away  PSCH  PSCD  PSCA  HG  AG  previsao_vitoria_mandante  \\\n",
            "0    37    38   1.5   3.5   5.0   0   0                          0   \n",
            "1    36    39   2.0   3.0   3.5   0   0                          0   \n",
            "\n",
            "   prob_vitoria_mandante  \n",
            "0                   0.09  \n",
            "1                   0.08  \n"
          ]
        }
      ]
    }
  ]
}
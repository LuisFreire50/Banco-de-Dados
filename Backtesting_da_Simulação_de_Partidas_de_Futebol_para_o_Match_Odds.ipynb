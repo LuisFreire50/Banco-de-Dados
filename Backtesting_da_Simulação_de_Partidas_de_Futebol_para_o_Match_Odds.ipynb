{
  "nbformat": 4,
  "nbformat_minor": 0,
  "metadata": {
    "colab": {
      "provenance": [],
      "private_outputs": true,
      "collapsed_sections": [
        "fxFevOAvLm5n",
        "XyJxPO8YLpi4",
        "XCS4-nuDLuLm",
        "w701C5-qL_Ug"
      ],
      "include_colab_link": true
    },
    "kernelspec": {
      "name": "python3",
      "display_name": "Python 3"
    },
    "language_info": {
      "name": "python"
    }
  },
  "cells": [
    {
      "cell_type": "markdown",
      "metadata": {
        "id": "view-in-github",
        "colab_type": "text"
      },
      "source": [
        "<a href=\"https://colab.research.google.com/github/LuisFreire50/Banco-de-Dados/blob/main/Backtesting_da_Simula%C3%A7%C3%A3o_de_Partidas_de_Futebol_para_o_Match_Odds.ipynb\" target=\"_parent\"><img src=\"https://colab.research.google.com/assets/colab-badge.svg\" alt=\"Open In Colab\"/></a>"
      ]
    },
    {
      "cell_type": "code",
      "source": [
        "# League = 'E0' # Premier League\n",
        "# League = 'SP1' # La Liga\n",
        "# League = 'D1' # Bundesliga\n",
        "League = 'F1' # Ligue 1\n",
        "# League = 'I1' # Serie A"
      ],
      "metadata": {
        "id": "26pCkQnqLkyR"
      },
      "execution_count": null,
      "outputs": []
    },
    {
      "cell_type": "markdown",
      "source": [
        "### Importando as Bibliotecas e Funções"
      ],
      "metadata": {
        "id": "fxFevOAvLm5n"
      }
    },
    {
      "cell_type": "code",
      "source": [
        "import pandas as pd\n",
        "import numpy as np\n",
        "from scipy.stats import poisson\n",
        "\n",
        "import warnings\n",
        "warnings.filterwarnings(\"ignore\")\n",
        "\n",
        "def drop_reset_index(df):\n",
        "    df = df.dropna()\n",
        "    df = df.reset_index(drop=True)\n",
        "    df.index += 1\n",
        "    return df\n",
        "\n",
        "def simulate_match(home_goals_for, home_goals_against, away_goals_for, away_goals_against, num_simulations=10000, random_seed=42):\n",
        "    np.random.seed(random_seed)\n",
        "    estimated_home_goals = (home_goals_for + away_goals_against) / 2\n",
        "    estimated_away_goals = (away_goals_for + home_goals_against) / 2\n",
        "\n",
        "    home_goals = poisson(estimated_home_goals).rvs(num_simulations)\n",
        "    away_goals = poisson(estimated_away_goals).rvs(num_simulations)\n",
        "\n",
        "    results = pd.DataFrame({\n",
        "        'Home_Goals': home_goals,\n",
        "        'Away_Goals': away_goals\n",
        "    })\n",
        "\n",
        "    return results\n",
        "\n",
        "def top_results_df(simulated_results, top_n=10):\n",
        "\n",
        "    result_counts = simulated_results.value_counts().head(top_n).reset_index()\n",
        "    result_counts.columns = ['Home_Goals', 'Away_Goals', 'Count']\n",
        "\n",
        "    sum_top_counts = result_counts['Count'].sum()\n",
        "    result_counts['Probability'] = result_counts['Count'] / sum_top_counts\n",
        "\n",
        "    return result_counts\n",
        "\n",
        "def plot_profit_acu(dataframe, title_text):\n",
        "    dataframe['Profit_acu'] = dataframe.Profit.cumsum()\n",
        "    n_apostas = dataframe.shape[0]\n",
        "    profit = round(dataframe.Profit_acu.tail(1).item(), 2)\n",
        "    ROI = round((dataframe.Profit_acu.tail(1) / n_apostas * 100).item(), 2)\n",
        "    drawdown = dataframe['Profit_acu'] - dataframe['Profit_acu'].cummax()\n",
        "    drawdown_maximo = round(drawdown.min(), 2)\n",
        "    winrate_medio = round((dataframe['Profit'] > 0).mean() * 100, 2)\n",
        "    desvio_padrao = round(dataframe['Profit'].std(), 2)\n",
        "    dataframe.Profit_acu.plot(title=title_text, xlabel='Entradas', ylabel='Stakes')\n",
        "    print(\"Método:\",title_text)\n",
        "    print(\"Profit:\", profit, \"stakes em\", n_apostas, \"jogos\")\n",
        "    print(\"ROI:\", ROI, \"%\")\n",
        "    print(\"Drawdown Maximo Acumulado:\", drawdown_maximo)\n",
        "    print(\"Winrate Medio:\", winrate_medio, \"%\")\n",
        "    print(\"Desvio Padrao:\", desvio_padrao)\n",
        "    print(\"\")"
      ],
      "metadata": {
        "id": "e9Mg-1kHXFRt"
      },
      "execution_count": null,
      "outputs": []
    },
    {
      "cell_type": "markdown",
      "source": [
        "### Importando a Base de Dados"
      ],
      "metadata": {
        "id": "XyJxPO8YLpi4"
      }
    },
    {
      "cell_type": "code",
      "source": [
        "df = pd.read_csv(f\"https://www.football-data.co.uk/mmz4281/2223/{League}.csv\")\n",
        "df = df[['Date','HomeTeam','AwayTeam','FTHG','FTAG','B365H','B365D','B365A']]\n",
        "df.columns = ['Date','Home','Away','Goals_H','Goals_A','Odd_H','Odd_D','Odd_A']\n",
        "df = drop_reset_index(df)"
      ],
      "metadata": {
        "id": "kyuwc8jIlrjc"
      },
      "execution_count": null,
      "outputs": []
    },
    {
      "cell_type": "markdown",
      "source": [
        "### Criando as Variáveis"
      ],
      "metadata": {
        "id": "XCS4-nuDLuLm"
      }
    },
    {
      "cell_type": "code",
      "source": [
        "# Média de Gols Marcados\n",
        "df['Media_GM_H'] = df.groupby('Home')['Goals_H'].rolling(window=5, min_periods=5).mean().reset_index(0,drop=True)\n",
        "df['Media_GM_A'] = df.groupby('Away')['Goals_A'].rolling(window=5, min_periods=5).mean().reset_index(0,drop=True)\n",
        "\n",
        "df['Media_GM_H'] = df.groupby('Home')['Media_GM_H'].shift(1)\n",
        "df['Media_GM_A'] = df.groupby('Away')['Media_GM_A'].shift(1)\n",
        "\n",
        "# Média de Gols Sofridos\n",
        "df['Media_GS_H'] = df.groupby('Home')['Goals_A'].rolling(window=5, min_periods=5).mean().reset_index(0,drop=True)\n",
        "df['Media_GS_A'] = df.groupby('Away')['Goals_H'].rolling(window=5, min_periods=5).mean().reset_index(0,drop=True)\n",
        "\n",
        "df['Media_GS_H'] = df.groupby('Home')['Media_GS_H'].shift(1)\n",
        "df['Media_GS_A'] = df.groupby('Away')['Media_GS_A'].shift(1)"
      ],
      "metadata": {
        "id": "_XWLVxiDGYjW"
      },
      "execution_count": null,
      "outputs": []
    },
    {
      "cell_type": "code",
      "source": [
        "df = drop_reset_index(df)\n",
        "df"
      ],
      "metadata": {
        "id": "DZw2RovuGljy"
      },
      "execution_count": null,
      "outputs": []
    },
    {
      "cell_type": "markdown",
      "source": [
        "### Backtesting"
      ],
      "metadata": {
        "id": "w701C5-qL_Ug"
      }
    },
    {
      "cell_type": "code",
      "source": [
        "df['Prob_Home'] = ''\n",
        "df['Prob_Draw'] = ''\n",
        "df['Prob_Away'] = ''"
      ],
      "metadata": {
        "id": "SjjqwwelIUWX"
      },
      "execution_count": null,
      "outputs": []
    },
    {
      "cell_type": "code",
      "source": [
        "for k in range(len(df)):\n",
        "\n",
        "    i = k + 1\n",
        "\n",
        "    Team_01 = df['Home'][i]\n",
        "    Team_02 = df['Away'][i]\n",
        "\n",
        "    # Média de Gols Marcados\n",
        "    Media_GM_H = df['Media_GM_H'][i]\n",
        "    Media_GM_A = df['Media_GM_A'][i]\n",
        "\n",
        "    # Média de Gols Sofridos\n",
        "    Media_GS_H = df['Media_GS_H'][i]\n",
        "    Media_GS_A = df['Media_GS_A'][i]\n",
        "\n",
        "    # Simular Partidas\n",
        "    simulated_results = simulate_match(Media_GM_H, Media_GS_H, Media_GM_A, Media_GS_H)\n",
        "    results = top_results_df(simulated_results)\n",
        "    results = drop_reset_index(results)\n",
        "\n",
        "    # Análise dos resultados\n",
        "    Home = sum(results['Home_Goals'] >  results['Away_Goals'])\n",
        "    Draw = sum(results['Home_Goals'] == results['Away_Goals'])\n",
        "    Away = sum(results['Home_Goals']  < results['Away_Goals'])\n",
        "    df['Prob_Home'][i] = float(Home/len(results))\n",
        "    df['Prob_Draw'][i] = float(Draw/len(results))\n",
        "    df['Prob_Away'][i] = float(Away/len(results))"
      ],
      "metadata": {
        "id": "wGRnO_UbJmWc"
      },
      "execution_count": null,
      "outputs": []
    },
    {
      "cell_type": "code",
      "source": [
        "df"
      ],
      "metadata": {
        "id": "vDzclsvsKV2J"
      },
      "execution_count": null,
      "outputs": []
    },
    {
      "cell_type": "code",
      "source": [
        "flt1 = (df.Prob_Home >= 0.5)\n",
        "df1 = df[flt1]\n",
        "df1 = drop_reset_index(df1)\n",
        "\n",
        "df1['Profit'] = -1\n",
        "df1.loc[(df1['Goals_H'] > df1['Goals_A']),'Profit'] = df1['Odd_H']-1"
      ],
      "metadata": {
        "id": "tCi0hzjZJ8Sj"
      },
      "execution_count": null,
      "outputs": []
    },
    {
      "cell_type": "code",
      "source": [
        "flt2 = (df.Prob_Home >= 0.5) & (df.Odd_H < df.Odd_A)\n",
        "df2 = df[flt2]\n",
        "df2 = drop_reset_index(df2)\n",
        "\n",
        "df2['Profit'] = -1\n",
        "df2.loc[(df2['Goals_H'] > df2['Goals_A']),'Profit'] = df2['Odd_H']-1"
      ],
      "metadata": {
        "id": "ghPr-y9wK6gJ"
      },
      "execution_count": null,
      "outputs": []
    },
    {
      "cell_type": "code",
      "source": [
        "flt3 = (df.Prob_Home >= 0.5) & (df.Odd_H > df.Odd_A)\n",
        "df3 = df[flt3]\n",
        "df3 = drop_reset_index(df3)\n",
        "\n",
        "df3['Profit'] = -1\n",
        "df3.loc[(df3['Goals_H'] > df3['Goals_A']),'Profit'] = df3['Odd_H']-1"
      ],
      "metadata": {
        "id": "7_oWTZJxIAx-"
      },
      "execution_count": null,
      "outputs": []
    },
    {
      "cell_type": "markdown",
      "source": [
        "### Resultados"
      ],
      "metadata": {
        "id": "HpnGXMUaMCck"
      }
    },
    {
      "cell_type": "code",
      "source": [
        "plot_profit_acu(df1, 'Back Home')"
      ],
      "metadata": {
        "id": "hC0HVB2lRLXM"
      },
      "execution_count": null,
      "outputs": []
    },
    {
      "cell_type": "code",
      "source": [
        "plot_profit_acu(df2, 'Back Home Favoritos')"
      ],
      "metadata": {
        "id": "T6-UghJIRONN"
      },
      "execution_count": null,
      "outputs": []
    },
    {
      "cell_type": "code",
      "source": [
        "plot_profit_acu(df3, 'Back Home Zebras')"
      ],
      "metadata": {
        "id": "uIAJCLwuH9sM"
      },
      "execution_count": null,
      "outputs": []
    }
  ]
}